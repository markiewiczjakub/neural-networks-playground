{
 "cells": [
  {
   "cell_type": "code",
   "execution_count": null,
   "id": "061c44a1-2262-4fb9-be39-16ba606a078b",
   "metadata": {},
   "outputs": [],
   "source": [
    "# https://github.com/karpathy/nn-zero-to-hero/blob/master/lectures/makemore/makemore_part2_mlp.ipynb"
   ]
  },
  {
   "cell_type": "code",
   "execution_count": 3,
   "id": "5171f33a-57e4-4cd7-a70c-1e1674c1e5a2",
   "metadata": {},
   "outputs": [],
   "source": [
    "import torch\n",
    "import torch.nn.functional as F\n",
    "import matplotlib.pyplot as plt # for making figures\n",
    "%matplotlib inline"
   ]
  },
  {
   "cell_type": "code",
   "execution_count": 97,
   "id": "890dd7e3-9c4a-4dae-a185-d516b4a33cd0",
   "metadata": {},
   "outputs": [
    {
     "data": {
      "text/plain": [
       "['jan', 'stanisław', 'andrzej', 'józef', 'tadeusz']"
      ]
     },
     "execution_count": 97,
     "metadata": {},
     "output_type": "execute_result"
    }
   ],
   "source": [
    "male = open('../data/polish-male-firstnames.txt').read().splitlines()\n",
    "female = open('../data/polish-female-firstnames.txt').read().splitlines()\n",
    "words = male + female\n",
    "words = [w.strip().lower() for w in words]\n",
    "\n",
    "words[:5]"
   ]
  },
  {
   "cell_type": "code",
   "execution_count": 98,
   "id": "d31feefa-1f35-4d8a-873f-90fd53ea232b",
   "metadata": {},
   "outputs": [
    {
     "data": {
      "text/plain": [
       "['a',\n",
       " 'b',\n",
       " 'c',\n",
       " 'd',\n",
       " 'e',\n",
       " 'f',\n",
       " 'g',\n",
       " 'h',\n",
       " 'i',\n",
       " 'j',\n",
       " 'k',\n",
       " 'l',\n",
       " 'm',\n",
       " 'n',\n",
       " 'o',\n",
       " 'p',\n",
       " 'r',\n",
       " 's',\n",
       " 't',\n",
       " 'u',\n",
       " 'v',\n",
       " 'w',\n",
       " 'y',\n",
       " 'z',\n",
       " 'ó',\n",
       " 'ę',\n",
       " 'ł',\n",
       " 'ń',\n",
       " 'ś',\n",
       " 'ż']"
      ]
     },
     "execution_count": 98,
     "metadata": {},
     "output_type": "execute_result"
    }
   ],
   "source": [
    "all_chars = sorted(list(set(''.join(words))))\n",
    "all_chars"
   ]
  },
  {
   "cell_type": "code",
   "execution_count": 99,
   "id": "1a0b2e6a-20c1-494d-afed-f3d8b6c6828e",
   "metadata": {},
   "outputs": [
    {
     "data": {
      "text/plain": [
       "31"
      ]
     },
     "execution_count": 99,
     "metadata": {},
     "output_type": "execute_result"
    }
   ],
   "source": [
    "stoi = { s:i+1 for i,s in enumerate(all_chars) }\n",
    "stoi['.'] = 0\n",
    "itos = { i: s for s, i in stoi.items() }\n",
    "char_size = len(stoi.items())\n",
    "char_size"
   ]
  },
  {
   "cell_type": "code",
   "execution_count": 446,
   "id": "902abcfa-58df-4a0b-bc78-4cd2b4cb549d",
   "metadata": {},
   "outputs": [],
   "source": [
    "BLOCK_SIZE = 4 # context of 4 letters\n",
    "\n",
    "def build_dataset(words):\n",
    "    X, Y = [], []\n",
    "    for w in words:\n",
    "        context = [0] * BLOCK_SIZE\n",
    "        for char in w + '.':\n",
    "            ix = stoi[char]\n",
    "            X.append(context)\n",
    "            Y.append(ix)\n",
    "            context = context[1:] + [ix]\n",
    "    \n",
    "    X = torch.tensor(X)\n",
    "    Y = torch.tensor(Y)\n",
    "    return X, Y\n",
    "\n",
    "import random\n",
    "random.seed(10)\n",
    "random.shuffle(words)\n",
    "\n",
    "n1 = int(0.8 * len(words))\n",
    "n2 = int(0.9 * len(words))\n",
    "\n",
    "Xtr, Ytr = build_dataset(words[:n1])\n",
    "Xdev, Ydev = build_dataset(words[n1:n2])\n",
    "Xte, Yte = build_dataset(words[n2:])"
   ]
  },
  {
   "cell_type": "code",
   "execution_count": 447,
   "id": "589c38db-c8ee-4830-b960-188f2888ff1e",
   "metadata": {},
   "outputs": [
    {
     "data": {
      "text/plain": [
       "(torch.Size([3745, 4]), torch.Size([481, 4]), torch.Size([478, 4]))"
      ]
     },
     "execution_count": 447,
     "metadata": {},
     "output_type": "execute_result"
    }
   ],
   "source": [
    "(Xtr.shape, Xdev.shape, Xte.shape)"
   ]
  },
  {
   "cell_type": "code",
   "execution_count": 569,
   "id": "7b12a79c-a79c-4fd0-beb4-388df31bf64d",
   "metadata": {},
   "outputs": [],
   "source": [
    "# MLP\n",
    "\n",
    "EMBED_SIZE = 3\n",
    "FIRST_LAYER_SIZE = 50\n",
    "BATCH_SIZE = 16\n",
    "\n",
    "g = torch.Generator().manual_seed(2147483647)\n",
    "\n",
    "# embeding\n",
    "C = torch.randn((char_size, EMBED_SIZE), generator=g)\n",
    "\n",
    "# first layer\n",
    "W1 = torch.randn((BLOCK_SIZE * EMBED_SIZE, FIRST_LAYER_SIZE), generator=g)\n",
    "b1 = torch.randn(FIRST_LAYER_SIZE, generator=g)\n",
    "\n",
    "# second layer\n",
    "W2 = torch.randn((FIRST_LAYER_SIZE, char_size), generator=g)\n",
    "b2 = torch.randn(char_size, generator=g)\n",
    "\n",
    "parameters = [C, W1, b1, W2, b2]"
   ]
  },
  {
   "cell_type": "code",
   "execution_count": 570,
   "id": "801c48db-9a91-4264-872f-f266df6f1408",
   "metadata": {},
   "outputs": [
    {
     "data": {
      "text/plain": [
       "2324"
      ]
     },
     "execution_count": 570,
     "metadata": {},
     "output_type": "execute_result"
    }
   ],
   "source": [
    "sum(p.nelement() for p in parameters) # number of parameters of this MLP"
   ]
  },
  {
   "cell_type": "code",
   "execution_count": 571,
   "id": "19ef949d-b031-45d2-a91a-2e7ce8793c6b",
   "metadata": {},
   "outputs": [],
   "source": [
    "for p in parameters:\n",
    "    p.requires_grad = True"
   ]
  },
  {
   "cell_type": "code",
   "execution_count": 572,
   "id": "a940ea7e-dae0-4fcf-853b-9df0159aa622",
   "metadata": {},
   "outputs": [],
   "source": [
    "lre = torch.linspace(-3, 0, 2000)\n",
    "lrs = 10**lre"
   ]
  },
  {
   "cell_type": "code",
   "execution_count": 573,
   "id": "75903826-f0e1-419b-af7f-a5b2b9b97a00",
   "metadata": {},
   "outputs": [],
   "source": [
    "lossi = []\n",
    "\n",
    "steps = 10000\n",
    "for i in range(steps):\n",
    "\n",
    "    # batch\n",
    "    ix = torch.randint(0, Xtr.shape[0], (BATCH_SIZE,))\n",
    "    \n",
    "    # forward pass\n",
    "    emb = C[Xtr[ix]]\n",
    "    h = torch.tanh(emb.view(-1, BLOCK_SIZE * EMBED_SIZE) @ W1 + b1)\n",
    "    logits = h @ W2 + b2\n",
    "    loss = F.cross_entropy(logits, Ytr[ix])\n",
    "    lossi.append(loss.item())\n",
    "\n",
    "    # backward pass\n",
    "    for p in parameters:\n",
    "        p.grad = None\n",
    "    loss.backward()\n",
    "\n",
    "    lr = 0.1 if i < 0.6 * steps else 0.01\n",
    "    for p in parameters:\n",
    "        p.data += -lr * p.grad"
   ]
  },
  {
   "cell_type": "code",
   "execution_count": 574,
   "id": "91351678-1df1-491d-9ef4-48a96f1a067d",
   "metadata": {},
   "outputs": [
    {
     "data": {
      "text/plain": [
       "[<matplotlib.lines.Line2D at 0x7af1ee9f2090>]"
      ]
     },
     "execution_count": 574,
     "metadata": {},
     "output_type": "execute_result"
    },
    {
     "data": {
      "image/png": "[encoded data removed]",
      "text/plain": [
       "<Figure size 640x480 with 1 Axes>"
      ]
     },
     "metadata": {},
     "output_type": "display_data"
    }
   ],
   "source": [
    "plt.plot(list(range(len(lossi))), lossi)"
   ]
  },
  {
   "cell_type": "code",
   "execution_count": 575,
   "id": "21e9923e-1722-4bfe-a40f-c81c68d9b014",
   "metadata": {},
   "outputs": [
    {
     "data": {
      "text/plain": [
       "tensor(2.0082, grad_fn=<NllLossBackward0>)"
      ]
     },
     "execution_count": 575,
     "metadata": {},
     "output_type": "execute_result"
    }
   ],
   "source": [
    "emb = C[Xtr]\n",
    "h = torch.tanh(emb.view(-1, BLOCK_SIZE * EMBED_SIZE) @ W1 + b1) \n",
    "logits = h @ W2 + b2 # (32, 27)\n",
    "loss = F.cross_entropy(logits, Ytr)\n",
    "loss"
   ]
  },
  {
   "cell_type": "code",
   "execution_count": 576,
   "id": "ebdd2cd1-bdd1-4686-8e40-12089c892b5a",
   "metadata": {},
   "outputs": [
    {
     "data": {
      "text/plain": [
       "tensor(2.3199, grad_fn=<NllLossBackward0>)"
      ]
     },
     "execution_count": 576,
     "metadata": {},
     "output_type": "execute_result"
    }
   ],
   "source": [
    "emb = C[Xdev] \n",
    "h = torch.tanh(emb.view(-1, BLOCK_SIZE * EMBED_SIZE) @ W1 + b1) \n",
    "logits = h @ W2 + b2 \n",
    "loss = F.cross_entropy(logits, Ydev)\n",
    "loss"
   ]
  },
  {
   "cell_type": "code",
   "execution_count": 577,
   "id": "bc90b6e1-ffa1-49c8-8e5a-0b3a7ee1c5bb",
   "metadata": {},
   "outputs": [
    {
     "name": "stdout",
     "output_type": "stream",
     "text": [
      "czerta.\n",
      "leże.\n",
      "alicc.\n",
      "alfemar.\n",
      "galisława.\n",
      "kulw.\n",
      "reumalderjana.\n",
      "miszil.\n",
      "rareniaji.\n",
      "wera.\n",
      "wilino.\n",
      "gyrowinientyr.\n",
      "sławaj.\n",
      "caazbienalina.\n",
      "olbyj.\n",
      "wila.\n",
      "larfa.\n",
      "mulla.\n",
      "arolia.\n",
      "herżeusa.\n"
     ]
    }
   ],
   "source": [
    "# sample from the model\n",
    "g = torch.Generator().manual_seed(2147483647 + 10)\n",
    "\n",
    "for _ in range(20):\n",
    "    \n",
    "    out = []\n",
    "    context = [0] * BLOCK_SIZE # initialize with all ...\n",
    "    while True:\n",
    "      emb = C[torch.tensor([context])] # (1,block_size,d)\n",
    "      h = torch.tanh(emb.view(1, -1) @ W1 + b1)\n",
    "      logits = h @ W2 + b2\n",
    "      probs = F.softmax(logits, dim=1)\n",
    "      ix = torch.multinomial(probs, num_samples=1, generator=g).item()\n",
    "      context = context[1:] + [ix]\n",
    "      out.append(ix)\n",
    "      if ix == 0:\n",
    "        break\n",
    "    \n",
    "    print(''.join(itos[i] for i in out))"
   ]
  },
  {
   "cell_type": "code",
   "execution_count": 578,
   "id": "974d1d3e-5cc4-4cf5-bce6-ef799397a0e7",
   "metadata": {},
   "outputs": [
    {
     "data": {
      "text/plain": [
       "tensor(2.4550, grad_fn=<NllLossBackward0>)"
      ]
     },
     "execution_count": 578,
     "metadata": {},
     "output_type": "execute_result"
    }
   ],
   "source": [
    "# final loss based on test set\n",
    "emb = C[Xte] \n",
    "h = torch.tanh(emb.view(-1, BLOCK_SIZE * EMBED_SIZE) @ W1 + b1) \n",
    "logits = h @ W2 + b2 \n",
    "loss = F.cross_entropy(logits, Yte)\n",
    "loss"
   ]
  },
  {
   "cell_type": "code",
   "execution_count": null,
   "id": "faaf80c6-2125-4e72-9aeb-3517b552b3ea",
   "metadata": {},
   "outputs": [],
   "source": []
  }
 ],
 "metadata": {
  "kernelspec": {
   "display_name": "Python 3 (ipykernel)",
   "language": "python",
   "name": "python3"
  },
  "language_info": {
   "codemirror_mode": {
    "name": "ipython",
    "version": 3
   },
   "file_extension": ".py",
   "mimetype": "text/x-python",
   "name": "python",
   "nbconvert_exporter": "python",
   "pygments_lexer": "ipython3",
   "version": "3.12.3"
  }
 },
 "nbformat": 4,
 "nbformat_minor": 5
}
